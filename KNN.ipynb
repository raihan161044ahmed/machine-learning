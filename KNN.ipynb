{
  "nbformat": 4,
  "nbformat_minor": 0,
  "metadata": {
    "colab": {
      "name": "KNN.ipynb",
      "provenance": [],
      "collapsed_sections": []
    },
    "kernelspec": {
      "name": "python3",
      "display_name": "Python 3"
    }
  },
  "cells": [
    {
      "cell_type": "code",
      "metadata": {
        "id": "t3ayyStZkhU2",
        "colab_type": "code",
        "colab": {
          "base_uri": "https://localhost:8080/",
          "height": 35
        },
        "outputId": "d6300975-ef57-4bfc-b1bd-776fc9fd5886"
      },
      "source": [
        "# KNN algo, Sklearn, Dataset extraction with only python\n",
        "#The iris dataset has been provided in the drive\n",
        "\n",
        "!ls"
      ],
      "execution_count": null,
      "outputs": [
        {
          "output_type": "stream",
          "text": [
            "sample_data\n"
          ],
          "name": "stdout"
        }
      ]
    },
    {
      "cell_type": "code",
      "metadata": {
        "id": "qGnJ8OH4-jde",
        "colab_type": "code",
        "colab": {
          "resources": {
            "http://localhost:8080/nbextensions/google.colab/files.js": {
              "data": "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",
              "ok": true,
              "headers": [
                [
                  "content-type",
                  "application/javascript"
                ]
              ],
              "status": 200,
              "status_text": "OK"
            }
          },
          "base_uri": "https://localhost:8080/",
          "height": 77
        },
        "outputId": "7c1330f6-38ab-4829-f6a3-59c17435031e"
      },
      "source": [
        "#how to upload file from your computer in google colab\n",
        "from google.colab import files\n",
        "uploaded = files.upload()"
      ],
      "execution_count": null,
      "outputs": [
        {
          "output_type": "display_data",
          "data": {
            "text/html": [
              "\n",
              "     <input type=\"file\" id=\"files-0559d83a-2652-4199-8d6c-ca4c5ca3feae\" name=\"files[]\" multiple disabled />\n",
              "     <output id=\"result-0559d83a-2652-4199-8d6c-ca4c5ca3feae\">\n",
              "      Upload widget is only available when the cell has been executed in the\n",
              "      current browser session. Please rerun this cell to enable.\n",
              "      </output>\n",
              "      <script src=\"/nbextensions/google.colab/files.js\"></script> "
            ],
            "text/plain": [
              "<IPython.core.display.HTML object>"
            ]
          },
          "metadata": {
            "tags": []
          }
        },
        {
          "output_type": "stream",
          "text": [
            "Saving iris_dataset.txt to iris_dataset.txt\n"
          ],
          "name": "stdout"
        }
      ]
    },
    {
      "cell_type": "code",
      "metadata": {
        "id": "FqPpjs_R-xGS",
        "colab_type": "code",
        "colab": {
          "base_uri": "https://localhost:8080/",
          "height": 35
        },
        "outputId": "c8ce4326-5e3f-4719-8bda-2d7e693fe5b6"
      },
      "source": [
        "!ls"
      ],
      "execution_count": null,
      "outputs": [
        {
          "output_type": "stream",
          "text": [
            "'iris (1).txt'\t iris_dataset.txt   iris.txt   sample_data\n"
          ],
          "name": "stdout"
        }
      ]
    },
    {
      "cell_type": "code",
      "metadata": {
        "id": "jvIQuk5p_Ci8",
        "colab_type": "code",
        "colab": {
          "base_uri": "https://localhost:8080/",
          "height": 35
        },
        "outputId": "b5a2ed69-da94-4057-8729-1a7afe6513ca"
      },
      "source": [
        "#reading the file lines\n",
        "lines=[]\n",
        "#change name\n",
        "with open('iris_dataset.txt') as f:\n",
        "    lines = f.read().splitlines()\n",
        "    \n",
        "print(lines[0:4])"
      ],
      "execution_count": null,
      "outputs": [
        {
          "output_type": "stream",
          "text": [
            "['5.1,3.5,1.4,0.2,Iris-setosa', '4.9,3.0,1.4,0.2,Iris-setosa', '4.7,3.2,1.3,0.2,Iris-setosa', '4.6,3.1,1.5,0.2,Iris-setosa']\n"
          ],
          "name": "stdout"
        }
      ]
    },
    {
      "cell_type": "code",
      "metadata": {
        "id": "z1n8FImS_LRS",
        "colab_type": "code",
        "colab": {
          "base_uri": "https://localhost:8080/",
          "height": 35
        },
        "outputId": "d8e3c943-c47c-4762-d999-ce14acd024d6"
      },
      "source": [
        "# splitting each sample into attributes\n",
        "wanted_lines = []\n",
        "for i in range(0,len(lines)):\n",
        "  line = lines[i].split(\",\")\n",
        "  wanted_lines.append(line)\n",
        "  \n",
        "print(wanted_lines[0:4])"
      ],
      "execution_count": null,
      "outputs": [
        {
          "output_type": "stream",
          "text": [
            "[['5.1', '3.5', '1.4', '0.2', 'Iris-setosa'], ['4.9', '3.0', '1.4', '0.2', 'Iris-setosa'], ['4.7', '3.2', '1.3', '0.2', 'Iris-setosa'], ['4.6', '3.1', '1.5', '0.2', 'Iris-setosa']]\n"
          ],
          "name": "stdout"
        }
      ]
    },
    {
      "cell_type": "code",
      "metadata": {
        "id": "YGXzDS2p_t-c",
        "colab_type": "code",
        "colab": {
          "base_uri": "https://localhost:8080/",
          "height": 35
        },
        "outputId": "81a5bebc-8516-41a4-fe15-391a7e693779"
      },
      "source": [
        "# getting a view at the unique outputs\n",
        "outputs = []\n",
        "for i in range(0,len(wanted_lines)):\n",
        "  outputs.append(wanted_lines[i][-1])\n",
        "output_set = set(outputs)\n",
        "print(output_set)"
      ],
      "execution_count": null,
      "outputs": [
        {
          "output_type": "stream",
          "text": [
            "{'Iris-virginica', '', 'Iris-setosa', 'Iris-versicolor'}\n"
          ],
          "name": "stdout"
        }
      ]
    },
    {
      "cell_type": "code",
      "metadata": {
        "id": "r0SbROXQBtN8",
        "colab_type": "code",
        "colab": {
          "base_uri": "https://localhost:8080/",
          "height": 109
        },
        "outputId": "70a46271-50b4-443a-d96e-f6f98c48ee5c"
      },
      "source": [
        "# converting string outputs to values and keeping in dictionary\n",
        "output_dict={}\n",
        "i=0\n",
        "for element in output_set:\n",
        "  print(element)\n",
        "  output_dict[element] = i\n",
        "  i=i+1\n",
        "print(output_dict)"
      ],
      "execution_count": null,
      "outputs": [
        {
          "output_type": "stream",
          "text": [
            "Iris-virginica\n",
            "\n",
            "Iris-setosa\n",
            "Iris-versicolor\n",
            "{'Iris-virginica': 0, '': 1, 'Iris-setosa': 2, 'Iris-versicolor': 3}\n"
          ],
          "name": "stdout"
        }
      ]
    },
    {
      "cell_type": "code",
      "metadata": {
        "id": "3fEfHn5o-zFy",
        "colab_type": "code",
        "colab": {
          "base_uri": "https://localhost:8080/",
          "height": 55
        },
        "outputId": "d190680f-83f5-4651-ba48-38b51455aff2"
      },
      "source": [
        "# replacing string outputs with dictionary ints\n",
        "for i in range(0,len(wanted_lines)):\n",
        "  wanted_lines[i][-1] = output_dict[wanted_lines[i][-1]]\n",
        "print(wanted_lines)"
      ],
      "execution_count": null,
      "outputs": [
        {
          "output_type": "stream",
          "text": [
            "[['5.1', '3.5', '1.4', '0.2', 2], ['4.9', '3.0', '1.4', '0.2', 2], ['4.7', '3.2', '1.3', '0.2', 2], ['4.6', '3.1', '1.5', '0.2', 2], ['5.0', '3.6', '1.4', '0.2', 2], ['5.4', '3.9', '1.7', '0.4', 2], ['4.6', '3.4', '1.4', '0.3', 2], ['5.0', '3.4', '1.5', '0.2', 2], ['4.4', '2.9', '1.4', '0.2', 2], ['4.9', '3.1', '1.5', '0.1', 2], ['5.4', '3.7', '1.5', '0.2', 2], ['4.8', '3.4', '1.6', '0.2', 2], ['4.8', '3.0', '1.4', '0.1', 2], ['4.3', '3.0', '1.1', '0.1', 2], ['5.8', '4.0', '1.2', '0.2', 2], ['5.7', '4.4', '1.5', '0.4', 2], ['5.4', '3.9', '1.3', '0.4', 2], ['5.1', '3.5', '1.4', '0.3', 2], ['5.7', '3.8', '1.7', '0.3', 2], ['5.1', '3.8', '1.5', '0.3', 2], ['5.4', '3.4', '1.7', '0.2', 2], ['5.1', '3.7', '1.5', '0.4', 2], ['4.6', '3.6', '1.0', '0.2', 2], ['5.1', '3.3', '1.7', '0.5', 2], ['4.8', '3.4', '1.9', '0.2', 2], ['5.0', '3.0', '1.6', '0.2', 2], ['5.0', '3.4', '1.6', '0.4', 2], ['5.2', '3.5', '1.5', '0.2', 2], ['5.2', '3.4', '1.4', '0.2', 2], ['4.7', '3.2', '1.6', '0.2', 2], ['4.8', '3.1', '1.6', '0.2', 2], ['5.4', '3.4', '1.5', '0.4', 2], ['5.2', '4.1', '1.5', '0.1', 2], ['5.5', '4.2', '1.4', '0.2', 2], ['4.9', '3.1', '1.5', '0.1', 2], ['5.0', '3.2', '1.2', '0.2', 2], ['5.5', '3.5', '1.3', '0.2', 2], ['4.9', '3.1', '1.5', '0.1', 2], ['4.4', '3.0', '1.3', '0.2', 2], ['5.1', '3.4', '1.5', '0.2', 2], ['5.0', '3.5', '1.3', '0.3', 2], ['4.5', '2.3', '1.3', '0.3', 2], ['4.4', '3.2', '1.3', '0.2', 2], ['5.0', '3.5', '1.6', '0.6', 2], ['5.1', '3.8', '1.9', '0.4', 2], ['4.8', '3.0', '1.4', '0.3', 2], ['5.1', '3.8', '1.6', '0.2', 2], ['4.6', '3.2', '1.4', '0.2', 2], ['5.3', '3.7', '1.5', '0.2', 2], ['5.0', '3.3', '1.4', '0.2', 2], ['7.0', '3.2', '4.7', '1.4', 3], ['6.4', '3.2', '4.5', '1.5', 3], ['6.9', '3.1', '4.9', '1.5', 3], ['5.5', '2.3', '4.0', '1.3', 3], ['6.5', '2.8', '4.6', '1.5', 3], ['5.7', '2.8', '4.5', '1.3', 3], ['6.3', '3.3', '4.7', '1.6', 3], ['4.9', '2.4', '3.3', '1.0', 3], ['6.6', '2.9', '4.6', '1.3', 3], ['5.2', '2.7', '3.9', '1.4', 3], ['5.0', '2.0', '3.5', '1.0', 3], ['5.9', '3.0', '4.2', '1.5', 3], ['6.0', '2.2', '4.0', '1.0', 3], ['6.1', '2.9', '4.7', '1.4', 3], ['5.6', '2.9', '3.6', '1.3', 3], ['6.7', '3.1', '4.4', '1.4', 3], ['5.6', '3.0', '4.5', '1.5', 3], ['5.8', '2.7', '4.1', '1.0', 3], ['6.2', '2.2', '4.5', '1.5', 3], ['5.6', '2.5', '3.9', '1.1', 3], ['5.9', '3.2', '4.8', '1.8', 3], ['6.1', '2.8', '4.0', '1.3', 3], ['6.3', '2.5', '4.9', '1.5', 3], ['6.1', '2.8', '4.7', '1.2', 3], ['6.4', '2.9', '4.3', '1.3', 3], ['6.6', '3.0', '4.4', '1.4', 3], ['6.8', '2.8', '4.8', '1.4', 3], ['6.7', '3.0', '5.0', '1.7', 3], ['6.0', '2.9', '4.5', '1.5', 3], ['5.7', '2.6', '3.5', '1.0', 3], ['5.5', '2.4', '3.8', '1.1', 3], ['5.5', '2.4', '3.7', '1.0', 3], ['5.8', '2.7', '3.9', '1.2', 3], ['6.0', '2.7', '5.1', '1.6', 3], ['5.4', '3.0', '4.5', '1.5', 3], ['6.0', '3.4', '4.5', '1.6', 3], ['6.7', '3.1', '4.7', '1.5', 3], ['6.3', '2.3', '4.4', '1.3', 3], ['5.6', '3.0', '4.1', '1.3', 3], ['5.5', '2.5', '4.0', '1.3', 3], ['5.5', '2.6', '4.4', '1.2', 3], ['6.1', '3.0', '4.6', '1.4', 3], ['5.8', '2.6', '4.0', '1.2', 3], ['5.0', '2.3', '3.3', '1.0', 3], ['5.6', '2.7', '4.2', '1.3', 3], ['5.7', '3.0', '4.2', '1.2', 3], ['5.7', '2.9', '4.2', '1.3', 3], ['6.2', '2.9', '4.3', '1.3', 3], ['5.1', '2.5', '3.0', '1.1', 3], ['5.7', '2.8', '4.1', '1.3', 3], ['6.3', '3.3', '6.0', '2.5', 0], ['5.8', '2.7', '5.1', '1.9', 0], ['7.1', '3.0', '5.9', '2.1', 0], ['6.3', '2.9', '5.6', '1.8', 0], ['6.5', '3.0', '5.8', '2.2', 0], ['7.6', '3.0', '6.6', '2.1', 0], ['4.9', '2.5', '4.5', '1.7', 0], ['7.3', '2.9', '6.3', '1.8', 0], ['6.7', '2.5', '5.8', '1.8', 0], ['7.2', '3.6', '6.1', '2.5', 0], ['6.5', '3.2', '5.1', '2.0', 0], ['6.4', '2.7', '5.3', '1.9', 0], ['6.8', '3.0', '5.5', '2.1', 0], ['5.7', '2.5', '5.0', '2.0', 0], ['5.8', '2.8', '5.1', '2.4', 0], ['6.4', '3.2', '5.3', '2.3', 0], ['6.5', '3.0', '5.5', '1.8', 0], ['7.7', '3.8', '6.7', '2.2', 0], ['7.7', '2.6', '6.9', '2.3', 0], ['6.0', '2.2', '5.0', '1.5', 0], ['6.9', '3.2', '5.7', '2.3', 0], ['5.6', '2.8', '4.9', '2.0', 0], ['7.7', '2.8', '6.7', '2.0', 0], ['6.3', '2.7', '4.9', '1.8', 0], ['6.7', '3.3', '5.7', '2.1', 0], ['7.2', '3.2', '6.0', '1.8', 0], ['6.2', '2.8', '4.8', '1.8', 0], ['6.1', '3.0', '4.9', '1.8', 0], ['6.4', '2.8', '5.6', '2.1', 0], ['7.2', '3.0', '5.8', '1.6', 0], ['7.4', '2.8', '6.1', '1.9', 0], ['7.9', '3.8', '6.4', '2.0', 0], ['6.4', '2.8', '5.6', '2.2', 0], ['6.3', '2.8', '5.1', '1.5', 0], ['6.1', '2.6', '5.6', '1.4', 0], ['7.7', '3.0', '6.1', '2.3', 0], ['6.3', '3.4', '5.6', '2.4', 0], ['6.4', '3.1', '5.5', '1.8', 0], ['6.0', '3.0', '4.8', '1.8', 0], ['6.9', '3.1', '5.4', '2.1', 0], ['6.7', '3.1', '5.6', '2.4', 0], ['6.9', '3.1', '5.1', '2.3', 0], ['5.8', '2.7', '5.1', '1.9', 0], ['6.8', '3.2', '5.9', '2.3', 0], ['6.7', '3.3', '5.7', '2.5', 0], ['6.7', '3.0', '5.2', '2.3', 0], ['6.3', '2.5', '5.0', '1.9', 0], ['6.5', '3.0', '5.2', '2.0', 0], ['6.2', '3.4', '5.4', '2.3', 0], ['5.9', '3.0', '5.1', '1.8', 0], [1]]\n"
          ],
          "name": "stdout"
        }
      ]
    },
    {
      "cell_type": "code",
      "metadata": {
        "colab_type": "code",
        "id": "_tR8pWDwUYBX",
        "colab": {
          "base_uri": "https://localhost:8080/",
          "height": 209
        },
        "outputId": "872cab2a-0c18-408f-912f-7873b9001f59"
      },
      "source": [
        "# Converting all string attributes into floats\n",
        "import numpy as np\n",
        "\n",
        "for i in range(0,len(wanted_lines)):\n",
        "  for j in range(0,len(wanted_lines[0])):\n",
        "    wanted_lines[i][j] = float(wanted_lines[i][j])"
      ],
      "execution_count": null,
      "outputs": [
        {
          "output_type": "error",
          "ename": "IndexError",
          "evalue": "ignored",
          "traceback": [
            "\u001b[0;31m---------------------------------------------------------------------------\u001b[0m",
            "\u001b[0;31mIndexError\u001b[0m                                Traceback (most recent call last)",
            "\u001b[0;32m<ipython-input-13-6ecebc2e9eda>\u001b[0m in \u001b[0;36m<module>\u001b[0;34m()\u001b[0m\n\u001b[1;32m      3\u001b[0m \u001b[0;32mfor\u001b[0m \u001b[0mi\u001b[0m \u001b[0;32min\u001b[0m \u001b[0mrange\u001b[0m\u001b[0;34m(\u001b[0m\u001b[0;36m0\u001b[0m\u001b[0;34m,\u001b[0m\u001b[0mlen\u001b[0m\u001b[0;34m(\u001b[0m\u001b[0mwanted_lines\u001b[0m\u001b[0;34m)\u001b[0m\u001b[0;34m)\u001b[0m\u001b[0;34m:\u001b[0m\u001b[0;34m\u001b[0m\u001b[0;34m\u001b[0m\u001b[0m\n\u001b[1;32m      4\u001b[0m   \u001b[0;32mfor\u001b[0m \u001b[0mj\u001b[0m \u001b[0;32min\u001b[0m \u001b[0mrange\u001b[0m\u001b[0;34m(\u001b[0m\u001b[0;36m0\u001b[0m\u001b[0;34m,\u001b[0m\u001b[0mlen\u001b[0m\u001b[0;34m(\u001b[0m\u001b[0mwanted_lines\u001b[0m\u001b[0;34m[\u001b[0m\u001b[0;36m0\u001b[0m\u001b[0;34m]\u001b[0m\u001b[0;34m)\u001b[0m\u001b[0;34m)\u001b[0m\u001b[0;34m:\u001b[0m\u001b[0;34m\u001b[0m\u001b[0;34m\u001b[0m\u001b[0m\n\u001b[0;32m----> 5\u001b[0;31m     \u001b[0mwanted_lines\u001b[0m\u001b[0;34m[\u001b[0m\u001b[0mi\u001b[0m\u001b[0;34m]\u001b[0m\u001b[0;34m[\u001b[0m\u001b[0mj\u001b[0m\u001b[0;34m]\u001b[0m \u001b[0;34m=\u001b[0m \u001b[0mfloat\u001b[0m\u001b[0;34m(\u001b[0m\u001b[0mwanted_lines\u001b[0m\u001b[0;34m[\u001b[0m\u001b[0mi\u001b[0m\u001b[0;34m]\u001b[0m\u001b[0;34m[\u001b[0m\u001b[0mj\u001b[0m\u001b[0;34m]\u001b[0m\u001b[0;34m)\u001b[0m\u001b[0;34m\u001b[0m\u001b[0;34m\u001b[0m\u001b[0m\n\u001b[0m",
            "\u001b[0;31mIndexError\u001b[0m: list index out of range"
          ]
        }
      ]
    },
    {
      "cell_type": "code",
      "metadata": {
        "id": "MKXsjXrpHRg0",
        "colab_type": "code",
        "colab": {
          "base_uri": "https://localhost:8080/",
          "height": 2772
        },
        "outputId": "634eb275-db0f-4808-e3e3-c1cc2a35065f"
      },
      "source": [
        "print(np.array(wanted_lines))"
      ],
      "execution_count": null,
      "outputs": [
        {
          "output_type": "stream",
          "text": [
            "[[5.1 3.5 1.4 0.2 1. ]\n",
            " [4.9 3.  1.4 0.2 1. ]\n",
            " [4.7 3.2 1.3 0.2 1. ]\n",
            " [4.6 3.1 1.5 0.2 1. ]\n",
            " [5.  3.6 1.4 0.2 1. ]\n",
            " [5.4 3.9 1.7 0.4 1. ]\n",
            " [4.6 3.4 1.4 0.3 1. ]\n",
            " [5.  3.4 1.5 0.2 1. ]\n",
            " [4.4 2.9 1.4 0.2 1. ]\n",
            " [4.9 3.1 1.5 0.1 1. ]\n",
            " [5.4 3.7 1.5 0.2 1. ]\n",
            " [4.8 3.4 1.6 0.2 1. ]\n",
            " [4.8 3.  1.4 0.1 1. ]\n",
            " [4.3 3.  1.1 0.1 1. ]\n",
            " [5.8 4.  1.2 0.2 1. ]\n",
            " [5.7 4.4 1.5 0.4 1. ]\n",
            " [5.4 3.9 1.3 0.4 1. ]\n",
            " [5.1 3.5 1.4 0.3 1. ]\n",
            " [5.7 3.8 1.7 0.3 1. ]\n",
            " [5.1 3.8 1.5 0.3 1. ]\n",
            " [5.4 3.4 1.7 0.2 1. ]\n",
            " [5.1 3.7 1.5 0.4 1. ]\n",
            " [4.6 3.6 1.  0.2 1. ]\n",
            " [5.1 3.3 1.7 0.5 1. ]\n",
            " [4.8 3.4 1.9 0.2 1. ]\n",
            " [5.  3.  1.6 0.2 1. ]\n",
            " [5.  3.4 1.6 0.4 1. ]\n",
            " [5.2 3.5 1.5 0.2 1. ]\n",
            " [5.2 3.4 1.4 0.2 1. ]\n",
            " [4.7 3.2 1.6 0.2 1. ]\n",
            " [4.8 3.1 1.6 0.2 1. ]\n",
            " [5.4 3.4 1.5 0.4 1. ]\n",
            " [5.2 4.1 1.5 0.1 1. ]\n",
            " [5.5 4.2 1.4 0.2 1. ]\n",
            " [4.9 3.1 1.5 0.1 1. ]\n",
            " [5.  3.2 1.2 0.2 1. ]\n",
            " [5.5 3.5 1.3 0.2 1. ]\n",
            " [4.9 3.1 1.5 0.1 1. ]\n",
            " [4.4 3.  1.3 0.2 1. ]\n",
            " [5.1 3.4 1.5 0.2 1. ]\n",
            " [5.  3.5 1.3 0.3 1. ]\n",
            " [4.5 2.3 1.3 0.3 1. ]\n",
            " [4.4 3.2 1.3 0.2 1. ]\n",
            " [5.  3.5 1.6 0.6 1. ]\n",
            " [5.1 3.8 1.9 0.4 1. ]\n",
            " [4.8 3.  1.4 0.3 1. ]\n",
            " [5.1 3.8 1.6 0.2 1. ]\n",
            " [4.6 3.2 1.4 0.2 1. ]\n",
            " [5.3 3.7 1.5 0.2 1. ]\n",
            " [5.  3.3 1.4 0.2 1. ]\n",
            " [7.  3.2 4.7 1.4 2. ]\n",
            " [6.4 3.2 4.5 1.5 2. ]\n",
            " [6.9 3.1 4.9 1.5 2. ]\n",
            " [5.5 2.3 4.  1.3 2. ]\n",
            " [6.5 2.8 4.6 1.5 2. ]\n",
            " [5.7 2.8 4.5 1.3 2. ]\n",
            " [6.3 3.3 4.7 1.6 2. ]\n",
            " [4.9 2.4 3.3 1.  2. ]\n",
            " [6.6 2.9 4.6 1.3 2. ]\n",
            " [5.2 2.7 3.9 1.4 2. ]\n",
            " [5.  2.  3.5 1.  2. ]\n",
            " [5.9 3.  4.2 1.5 2. ]\n",
            " [6.  2.2 4.  1.  2. ]\n",
            " [6.1 2.9 4.7 1.4 2. ]\n",
            " [5.6 2.9 3.6 1.3 2. ]\n",
            " [6.7 3.1 4.4 1.4 2. ]\n",
            " [5.6 3.  4.5 1.5 2. ]\n",
            " [5.8 2.7 4.1 1.  2. ]\n",
            " [6.2 2.2 4.5 1.5 2. ]\n",
            " [5.6 2.5 3.9 1.1 2. ]\n",
            " [5.9 3.2 4.8 1.8 2. ]\n",
            " [6.1 2.8 4.  1.3 2. ]\n",
            " [6.3 2.5 4.9 1.5 2. ]\n",
            " [6.1 2.8 4.7 1.2 2. ]\n",
            " [6.4 2.9 4.3 1.3 2. ]\n",
            " [6.6 3.  4.4 1.4 2. ]\n",
            " [6.8 2.8 4.8 1.4 2. ]\n",
            " [6.7 3.  5.  1.7 2. ]\n",
            " [6.  2.9 4.5 1.5 2. ]\n",
            " [5.7 2.6 3.5 1.  2. ]\n",
            " [5.5 2.4 3.8 1.1 2. ]\n",
            " [5.5 2.4 3.7 1.  2. ]\n",
            " [5.8 2.7 3.9 1.2 2. ]\n",
            " [6.  2.7 5.1 1.6 2. ]\n",
            " [5.4 3.  4.5 1.5 2. ]\n",
            " [6.  3.4 4.5 1.6 2. ]\n",
            " [6.7 3.1 4.7 1.5 2. ]\n",
            " [6.3 2.3 4.4 1.3 2. ]\n",
            " [5.6 3.  4.1 1.3 2. ]\n",
            " [5.5 2.5 4.  1.3 2. ]\n",
            " [5.5 2.6 4.4 1.2 2. ]\n",
            " [6.1 3.  4.6 1.4 2. ]\n",
            " [5.8 2.6 4.  1.2 2. ]\n",
            " [5.  2.3 3.3 1.  2. ]\n",
            " [5.6 2.7 4.2 1.3 2. ]\n",
            " [5.7 3.  4.2 1.2 2. ]\n",
            " [5.7 2.9 4.2 1.3 2. ]\n",
            " [6.2 2.9 4.3 1.3 2. ]\n",
            " [5.1 2.5 3.  1.1 2. ]\n",
            " [5.7 2.8 4.1 1.3 2. ]\n",
            " [6.3 3.3 6.  2.5 0. ]\n",
            " [5.8 2.7 5.1 1.9 0. ]\n",
            " [7.1 3.  5.9 2.1 0. ]\n",
            " [6.3 2.9 5.6 1.8 0. ]\n",
            " [6.5 3.  5.8 2.2 0. ]\n",
            " [7.6 3.  6.6 2.1 0. ]\n",
            " [4.9 2.5 4.5 1.7 0. ]\n",
            " [7.3 2.9 6.3 1.8 0. ]\n",
            " [6.7 2.5 5.8 1.8 0. ]\n",
            " [7.2 3.6 6.1 2.5 0. ]\n",
            " [6.5 3.2 5.1 2.  0. ]\n",
            " [6.4 2.7 5.3 1.9 0. ]\n",
            " [6.8 3.  5.5 2.1 0. ]\n",
            " [5.7 2.5 5.  2.  0. ]\n",
            " [5.8 2.8 5.1 2.4 0. ]\n",
            " [6.4 3.2 5.3 2.3 0. ]\n",
            " [6.5 3.  5.5 1.8 0. ]\n",
            " [7.7 3.8 6.7 2.2 0. ]\n",
            " [7.7 2.6 6.9 2.3 0. ]\n",
            " [6.  2.2 5.  1.5 0. ]\n",
            " [6.9 3.2 5.7 2.3 0. ]\n",
            " [5.6 2.8 4.9 2.  0. ]\n",
            " [7.7 2.8 6.7 2.  0. ]\n",
            " [6.3 2.7 4.9 1.8 0. ]\n",
            " [6.7 3.3 5.7 2.1 0. ]\n",
            " [7.2 3.2 6.  1.8 0. ]\n",
            " [6.2 2.8 4.8 1.8 0. ]\n",
            " [6.1 3.  4.9 1.8 0. ]\n",
            " [6.4 2.8 5.6 2.1 0. ]\n",
            " [7.2 3.  5.8 1.6 0. ]\n",
            " [7.4 2.8 6.1 1.9 0. ]\n",
            " [7.9 3.8 6.4 2.  0. ]\n",
            " [6.4 2.8 5.6 2.2 0. ]\n",
            " [6.3 2.8 5.1 1.5 0. ]\n",
            " [6.1 2.6 5.6 1.4 0. ]\n",
            " [7.7 3.  6.1 2.3 0. ]\n",
            " [6.3 3.4 5.6 2.4 0. ]\n",
            " [6.4 3.1 5.5 1.8 0. ]\n",
            " [6.  3.  4.8 1.8 0. ]\n",
            " [6.9 3.1 5.4 2.1 0. ]\n",
            " [6.7 3.1 5.6 2.4 0. ]\n",
            " [6.9 3.1 5.1 2.3 0. ]\n",
            " [5.8 2.7 5.1 1.9 0. ]\n",
            " [6.8 3.2 5.9 2.3 0. ]\n",
            " [6.7 3.3 5.7 2.5 0. ]\n",
            " [6.7 3.  5.2 2.3 0. ]\n",
            " [6.3 2.5 5.  1.9 0. ]\n",
            " [6.5 3.  5.2 2.  0. ]\n",
            " [6.2 3.4 5.4 2.3 0. ]\n",
            " [5.9 3.  5.1 1.8 0. ]]\n"
          ],
          "name": "stdout"
        }
      ]
    },
    {
      "cell_type": "code",
      "metadata": {
        "id": "8S4vvTa1Evcx",
        "colab_type": "code",
        "colab": {
          "base_uri": "https://localhost:8080/",
          "height": 72
        },
        "outputId": "a48e1bf0-b331-432d-ac57-81edac18d8f0"
      },
      "source": [
        "#Train, test, validation split with probability\n",
        "\n",
        "import random\n",
        "\n",
        "Train = []\n",
        "Test = []\n",
        "Validation = []\n",
        "\n",
        "for i in range(0, len(wanted_lines)):\n",
        "  num = random.uniform(0, 1)\n",
        "  if(num>0.7 and num <= 0.85):\n",
        "    Validation.append(wanted_lines[i])\n",
        "  elif(num>0.85 and num<=1.0):\n",
        "    Test.append(wanted_lines[i])\n",
        "  else:\n",
        "    Train.append(wanted_lines[i])\n",
        "\n",
        "print(len(Train))\n",
        "print(len(Test))\n",
        "print(len(Validation))"
      ],
      "execution_count": null,
      "outputs": [
        {
          "output_type": "stream",
          "text": [
            "112\n",
            "23\n",
            "16\n"
          ],
          "name": "stdout"
        }
      ]
    },
    {
      "cell_type": "code",
      "metadata": {
        "id": "MBH3A9sKJFFa",
        "colab_type": "code",
        "colab": {
          "base_uri": "https://localhost:8080/",
          "height": 92
        },
        "outputId": "0e159dac-0804-4434-8816-ec860c31a9d4"
      },
      "source": [
        "print(Train)\n",
        "print(Validation)\n",
        "print(Test)\n",
        "#These will be our train, test and validation set\n",
        "\n",
        "# Run the above cells only once for getting these 3 sets. Then write the KNN algo"
      ],
      "execution_count": null,
      "outputs": [
        {
          "output_type": "stream",
          "text": [
            "[[4.7, 3.2, 1.3, 0.2, 2.0], [4.6, 3.1, 1.5, 0.2, 2.0], [5.0, 3.6, 1.4, 0.2, 2.0], [5.4, 3.9, 1.7, 0.4, 2.0], [4.6, 3.4, 1.4, 0.3, 2.0], [4.9, 3.1, 1.5, 0.1, 2.0], [5.4, 3.7, 1.5, 0.2, 2.0], [4.8, 3.4, 1.6, 0.2, 2.0], [4.8, 3.0, 1.4, 0.1, 2.0], [4.3, 3.0, 1.1, 0.1, 2.0], [5.7, 4.4, 1.5, 0.4, 2.0], [5.4, 3.9, 1.3, 0.4, 2.0], [5.1, 3.5, 1.4, 0.3, 2.0], [5.7, 3.8, 1.7, 0.3, 2.0], [5.1, 3.8, 1.5, 0.3, 2.0], [5.4, 3.4, 1.7, 0.2, 2.0], [5.1, 3.3, 1.7, 0.5, 2.0], [4.8, 3.4, 1.9, 0.2, 2.0], [5.0, 3.0, 1.6, 0.2, 2.0], [5.0, 3.4, 1.6, 0.4, 2.0], [5.2, 3.5, 1.5, 0.2, 2.0], [4.7, 3.2, 1.6, 0.2, 2.0], [5.4, 3.4, 1.5, 0.4, 2.0], [5.2, 4.1, 1.5, 0.1, 2.0], [5.5, 4.2, 1.4, 0.2, 2.0], [4.9, 3.1, 1.5, 0.1, 2.0], [5.5, 3.5, 1.3, 0.2, 2.0], [4.9, 3.1, 1.5, 0.1, 2.0], [4.4, 3.0, 1.3, 0.2, 2.0], [5.1, 3.4, 1.5, 0.2, 2.0], [5.0, 3.5, 1.3, 0.3, 2.0], [4.5, 2.3, 1.3, 0.3, 2.0], [5.0, 3.5, 1.6, 0.6, 2.0], [5.1, 3.8, 1.9, 0.4, 2.0], [4.8, 3.0, 1.4, 0.3, 2.0], [4.6, 3.2, 1.4, 0.2, 2.0], [5.3, 3.7, 1.5, 0.2, 2.0], [5.0, 3.3, 1.4, 0.2, 2.0], [7.0, 3.2, 4.7, 1.4, 3.0], [6.9, 3.1, 4.9, 1.5, 3.0], [5.5, 2.3, 4.0, 1.3, 3.0], [6.5, 2.8, 4.6, 1.5, 3.0], [4.9, 2.4, 3.3, 1.0, 3.0], [5.2, 2.7, 3.9, 1.4, 3.0], [5.0, 2.0, 3.5, 1.0, 3.0], [5.9, 3.0, 4.2, 1.5, 3.0], [6.1, 2.9, 4.7, 1.4, 3.0], [5.6, 2.9, 3.6, 1.3, 3.0], [6.7, 3.1, 4.4, 1.4, 3.0], [6.2, 2.2, 4.5, 1.5, 3.0], [5.6, 2.5, 3.9, 1.1, 3.0], [5.9, 3.2, 4.8, 1.8, 3.0], [6.1, 2.8, 4.0, 1.3, 3.0], [6.3, 2.5, 4.9, 1.5, 3.0], [6.1, 2.8, 4.7, 1.2, 3.0], [6.4, 2.9, 4.3, 1.3, 3.0], [6.6, 3.0, 4.4, 1.4, 3.0], [6.7, 3.0, 5.0, 1.7, 3.0], [6.0, 2.9, 4.5, 1.5, 3.0], [5.7, 2.6, 3.5, 1.0, 3.0], [5.5, 2.4, 3.8, 1.1, 3.0], [5.5, 2.4, 3.7, 1.0, 3.0], [5.8, 2.7, 3.9, 1.2, 3.0], [6.0, 2.7, 5.1, 1.6, 3.0], [5.4, 3.0, 4.5, 1.5, 3.0], [6.0, 3.4, 4.5, 1.6, 3.0], [6.7, 3.1, 4.7, 1.5, 3.0], [6.3, 2.3, 4.4, 1.3, 3.0], [5.5, 2.5, 4.0, 1.3, 3.0], [5.8, 2.6, 4.0, 1.2, 3.0], [5.0, 2.3, 3.3, 1.0, 3.0], [5.6, 2.7, 4.2, 1.3, 3.0], [5.7, 3.0, 4.2, 1.2, 3.0], [5.7, 2.9, 4.2, 1.3, 3.0], [6.2, 2.9, 4.3, 1.3, 3.0], [5.1, 2.5, 3.0, 1.1, 3.0], [5.7, 2.8, 4.1, 1.3, 3.0], [6.3, 3.3, 6.0, 2.5, 0.0], [6.3, 2.9, 5.6, 1.8, 0.0], [6.5, 3.0, 5.8, 2.2, 0.0], [7.6, 3.0, 6.6, 2.1, 0.0], [4.9, 2.5, 4.5, 1.7, 0.0], [7.3, 2.9, 6.3, 1.8, 0.0], [7.2, 3.6, 6.1, 2.5, 0.0], [6.4, 2.7, 5.3, 1.9, 0.0], [6.8, 3.0, 5.5, 2.1, 0.0], [5.7, 2.5, 5.0, 2.0, 0.0], [5.8, 2.8, 5.1, 2.4, 0.0], [6.4, 3.2, 5.3, 2.3, 0.0], [7.7, 2.6, 6.9, 2.3, 0.0], [6.0, 2.2, 5.0, 1.5, 0.0], [6.9, 3.2, 5.7, 2.3, 0.0], [5.6, 2.8, 4.9, 2.0, 0.0], [6.7, 3.3, 5.7, 2.1, 0.0], [6.1, 3.0, 4.9, 1.8, 0.0], [6.4, 2.8, 5.6, 2.1, 0.0], [7.2, 3.0, 5.8, 1.6, 0.0], [7.4, 2.8, 6.1, 1.9, 0.0], [7.9, 3.8, 6.4, 2.0, 0.0], [6.4, 2.8, 5.6, 2.2, 0.0], [6.3, 2.8, 5.1, 1.5, 0.0], [6.1, 2.6, 5.6, 1.4, 0.0], [6.3, 3.4, 5.6, 2.4, 0.0], [6.4, 3.1, 5.5, 1.8, 0.0], [6.0, 3.0, 4.8, 1.8, 0.0], [6.9, 3.1, 5.4, 2.1, 0.0], [5.8, 2.7, 5.1, 1.9, 0.0], [6.8, 3.2, 5.9, 2.3, 0.0], [6.7, 3.3, 5.7, 2.5, 0.0], [6.3, 2.5, 5.0, 1.9, 0.0], [6.2, 3.4, 5.4, 2.3, 0.0], [1.0]]\n",
            "[[4.9, 3.0, 1.4, 0.2, 2.0], [5.8, 4.0, 1.2, 0.2, 2.0], [5.1, 3.7, 1.5, 0.4, 2.0], [4.4, 3.2, 1.3, 0.2, 2.0], [5.1, 3.8, 1.6, 0.2, 2.0], [5.7, 2.8, 4.5, 1.3, 3.0], [6.3, 3.3, 4.7, 1.6, 3.0], [6.6, 2.9, 4.6, 1.3, 3.0], [5.6, 3.0, 4.5, 1.5, 3.0], [5.8, 2.7, 4.1, 1.0, 3.0], [6.8, 2.8, 4.8, 1.4, 3.0], [5.6, 3.0, 4.1, 1.3, 3.0], [6.5, 3.2, 5.1, 2.0, 0.0], [6.3, 2.7, 4.9, 1.8, 0.0], [6.7, 3.0, 5.2, 2.3, 0.0], [6.5, 3.0, 5.2, 2.0, 0.0]]\n",
            "[[5.1, 3.5, 1.4, 0.2, 2.0], [5.0, 3.4, 1.5, 0.2, 2.0], [4.4, 2.9, 1.4, 0.2, 2.0], [4.6, 3.6, 1.0, 0.2, 2.0], [5.2, 3.4, 1.4, 0.2, 2.0], [4.8, 3.1, 1.6, 0.2, 2.0], [5.0, 3.2, 1.2, 0.2, 2.0], [6.4, 3.2, 4.5, 1.5, 3.0], [6.0, 2.2, 4.0, 1.0, 3.0], [5.5, 2.6, 4.4, 1.2, 3.0], [6.1, 3.0, 4.6, 1.4, 3.0], [5.8, 2.7, 5.1, 1.9, 0.0], [7.1, 3.0, 5.9, 2.1, 0.0], [6.7, 2.5, 5.8, 1.8, 0.0], [6.5, 3.0, 5.5, 1.8, 0.0], [7.7, 3.8, 6.7, 2.2, 0.0], [7.7, 2.8, 6.7, 2.0, 0.0], [7.2, 3.2, 6.0, 1.8, 0.0], [6.2, 2.8, 4.8, 1.8, 0.0], [7.7, 3.0, 6.1, 2.3, 0.0], [6.7, 3.1, 5.6, 2.4, 0.0], [6.9, 3.1, 5.1, 2.3, 0.0], [5.9, 3.0, 5.1, 1.8, 0.0]]\n"
          ],
          "name": "stdout"
        }
      ]
    },
    {
      "cell_type": "code",
      "metadata": {
        "id": "iFZdcthaIodj",
        "colab_type": "code",
        "colab": {}
      },
      "source": [
        "#numpy array conversion\n",
        "\n",
        "train = np.array(Train)\n",
        "validation = np.array(Validation)\n",
        "test = np.array(Test)"
      ],
      "execution_count": null,
      "outputs": []
    },
    {
      "cell_type": "code",
      "metadata": {
        "id": "7N-07LjIsvmh",
        "colab_type": "code",
        "colab": {
          "base_uri": "https://localhost:8080/",
          "height": 301
        },
        "outputId": "cdba7c07-b6ac-436e-c03b-887c917be244"
      },
      "source": [
        "#Train, test, validation split with probability\n",
        "\n",
        "import random\n",
        "\n",
        "Train = []\n",
        "Test = []\n",
        "Validation = []\n",
        "X=[]\n",
        "for i in range(0, len(X)):\n",
        "  a=[]\n",
        "  a.append(X[i][0])\n",
        "  a.append(X[i][1])\n",
        "  a.append(y[i])\n",
        "  num = random.uniform(0, 1)\n",
        "  if(num>0.7 and num <= 0.85):    \n",
        "    Validation.append(a)\n",
        "  elif(num>0.85 and num<=1.0):\n",
        "    Test.append(a)\n",
        "  else:\n",
        "    Train.append(a)\n",
        "\n",
        "print(len(Train))\n",
        "print(len(Test))\n",
        "print(len(Validation))\n",
        "\n",
        "\n",
        "\n",
        "#raining.....update theta\n",
        "import math\n",
        "sampleY=[]\n",
        "\n",
        "dj_BY_Dtheta1=0\n",
        "dj_BY_Dtheta2=0\n",
        "dj_BY_Dtheta3=0\n",
        "lr=.999\n",
        "theta1=.3\n",
        "theta2=.4\n",
        "theta3=.2\n",
        "for i in range (0,3000):\n",
        " \n",
        "  total_loss=0\n",
        "  total_dj_BY_Dtheta1=0\n",
        "  total_dj_BY_Dtheta2=0\n",
        "  total_dj_BY_Dtheta3=0\n",
        "    \n",
        "  for j in range(0,len(Train)):\n",
        "     \n",
        "    sampley=Train[j]\n",
        "    \n",
        "    z=sampley[0]*theta1+sampley[1]*theta1+theta3\n",
        "    h=1/(1+math.exp(-z))\n",
        "    #print(\"h=\",h)\n",
        "    if(h==0):\n",
        "      h=.00000000001\n",
        "      \n",
        "    lossJ=(-sampley[-1]*math.log(h))-(1-sampley[-1])*math.log(1-h)\n",
        "    \n",
        "    total_loss +=lossJ\n",
        "    \n",
        "    dj_BY_Dtheta1 = sampley[0]*(h-sampley[-1])\n",
        "    dj_BY_Dtheta2 = sampley[1]*(h-sampley[-1])\n",
        "    dj_BY_Dtheta3 = (h-sampley[-1])\n",
        "\n",
        "\n",
        "    total_dj_BY_Dtheta1 +=dj_BY_Dtheta1\n",
        "    total_dj_BY_Dtheta2 +=dj_BY_Dtheta3\n",
        "    total_dj_BY_Dtheta3 +=dj_BY_Dtheta3\n",
        "\n",
        "  avrg_loss =(1/len(Train))*total_loss\n",
        "  avrg_dj_BY_Dtheta1 =(1/len(Train))*total_dj_BY_Dtheta1\n",
        "  avrg_dj_BY_Dtheta2 =(1/len(Train))*total_dj_BY_Dtheta2\n",
        "  avrg_dj_BY_Dtheta3 =(1/len(Train))*total_dj_BY_Dtheta3\n",
        "\n",
        "  theta1=theta1-(lr*dj_BY_Dtheta1 )\n",
        "  theta2=theta2-(lr*dj_BY_Dtheta2 )\n",
        "  theta3=theta3-(lr*dj_BY_Dtheta3 )\n",
        "\n",
        "\n",
        "  print(avrg_loss)\n",
        "\n",
        "\n",
        "#validation?testings\n",
        "accuracy=0\n",
        "count=0\n",
        "sampleX=[]\n",
        "for i in range(0, len(Validation)):\n",
        "  sampleX=Validation[i]\n",
        "  z=sampleX[0]*theta1+sampleX[1]*theta2+theta3\n",
        "  h=1/(1+math.exp(-z))\n",
        "  if(h>=.5):\n",
        "    h=1\n",
        "  else:\n",
        "    h=0\n",
        "       \n",
        "  if sampleX[-1]==h:\n",
        "    count +=1\n",
        "\n",
        "accuracy=(count/len(Validation))*100\n",
        "print(\"accuracy =\",accuracy)"
      ],
      "execution_count": null,
      "outputs": [
        {
          "output_type": "stream",
          "text": [
            "0\n",
            "0\n",
            "0\n"
          ],
          "name": "stdout"
        },
        {
          "output_type": "error",
          "ename": "ZeroDivisionError",
          "evalue": "ignored",
          "traceback": [
            "\u001b[0;31m---------------------------------------------------------------------------\u001b[0m",
            "\u001b[0;31mZeroDivisionError\u001b[0m                         Traceback (most recent call last)",
            "\u001b[0;32m<ipython-input-17-65558bf25fdd>\u001b[0m in \u001b[0;36m<module>\u001b[0;34m()\u001b[0m\n\u001b[1;32m     66\u001b[0m     \u001b[0mtotal_dj_BY_Dtheta3\u001b[0m \u001b[0;34m+=\u001b[0m\u001b[0mdj_BY_Dtheta3\u001b[0m\u001b[0;34m\u001b[0m\u001b[0;34m\u001b[0m\u001b[0m\n\u001b[1;32m     67\u001b[0m \u001b[0;34m\u001b[0m\u001b[0m\n\u001b[0;32m---> 68\u001b[0;31m   \u001b[0mavrg_loss\u001b[0m \u001b[0;34m=\u001b[0m\u001b[0;34m(\u001b[0m\u001b[0;36m1\u001b[0m\u001b[0;34m/\u001b[0m\u001b[0mlen\u001b[0m\u001b[0;34m(\u001b[0m\u001b[0mTrain\u001b[0m\u001b[0;34m)\u001b[0m\u001b[0;34m)\u001b[0m\u001b[0;34m*\u001b[0m\u001b[0mtotal_loss\u001b[0m\u001b[0;34m\u001b[0m\u001b[0;34m\u001b[0m\u001b[0m\n\u001b[0m\u001b[1;32m     69\u001b[0m   \u001b[0mavrg_dj_BY_Dtheta1\u001b[0m \u001b[0;34m=\u001b[0m\u001b[0;34m(\u001b[0m\u001b[0;36m1\u001b[0m\u001b[0;34m/\u001b[0m\u001b[0mlen\u001b[0m\u001b[0;34m(\u001b[0m\u001b[0mTrain\u001b[0m\u001b[0;34m)\u001b[0m\u001b[0;34m)\u001b[0m\u001b[0;34m*\u001b[0m\u001b[0mtotal_dj_BY_Dtheta1\u001b[0m\u001b[0;34m\u001b[0m\u001b[0;34m\u001b[0m\u001b[0m\n\u001b[1;32m     70\u001b[0m   \u001b[0mavrg_dj_BY_Dtheta2\u001b[0m \u001b[0;34m=\u001b[0m\u001b[0;34m(\u001b[0m\u001b[0;36m1\u001b[0m\u001b[0;34m/\u001b[0m\u001b[0mlen\u001b[0m\u001b[0;34m(\u001b[0m\u001b[0mTrain\u001b[0m\u001b[0;34m)\u001b[0m\u001b[0;34m)\u001b[0m\u001b[0;34m*\u001b[0m\u001b[0mtotal_dj_BY_Dtheta2\u001b[0m\u001b[0;34m\u001b[0m\u001b[0;34m\u001b[0m\u001b[0m\n",
            "\u001b[0;31mZeroDivisionError\u001b[0m: division by zero"
          ]
        }
      ]
    },
    {
      "cell_type": "code",
      "metadata": {
        "id": "eukoIIrq-U_D",
        "colab_type": "code",
        "colab": {
          "base_uri": "https://localhost:8080/",
          "height": 34
        },
        "outputId": "fc525480-bccc-4b9d-b123-a078dd5e1b33"
      },
      "source": [
        "#KNN algo -> don't even think about copying from here\n",
        "from collections import Counter\n",
        "import math\n",
        "import numpy as np\n",
        "import math\n",
        "\n",
        "\n",
        "val=[]\n",
        "\n",
        "tra=[]\n",
        "allDistance=[]\n",
        "\n",
        "accuracy=0\n",
        "count=0\n",
        "for i in range(0, len(Validation)):\n",
        "  a0=0\n",
        "  a1=0 \n",
        "  a2=0\n",
        "  \n",
        "  val=Validation[i]\n",
        " \n",
        "  for j in range(0,len(Train)):\n",
        "          tra=Train[j]\n",
        "          distance=math.sqrt(math.pow(tra[0]-val[0],2)+math.pow(tra[1]-val[1],2)+math.pow(tra[2]-val[2],2)+math.pow(tra[3]-val[3],2))\n",
        "          allDistance.append([distance,tra[-1]])\n",
        "    \n",
        "  \n",
        "  allDistance = sorted(allDistance, key=lambda x: x[0])\n",
        "  \n",
        "\n",
        "  \n",
        "  for k in range(0,10):\n",
        "        if allDistance[k][1]==0.0:\n",
        "            a0=a0+1\n",
        "        elif allDistance[k][1]==1.0 :\n",
        "            a1=a1+1\n",
        "        else:\n",
        "           a2=a2+1\n",
        "  if a0 > a1 and a0 > a2:\n",
        "    if val[-1]==0.0:\n",
        "      count=count+1\n",
        "      \n",
        "  elif a1 > a0 and a1 > a2:\n",
        "    if val[-1]==1.0:\n",
        "       count=count+1\n",
        "          \n",
        "  else:\n",
        "    if val[-1]==2.0:\n",
        "       count=count+1\n",
        "accuracy=(count/len(Validation))*100\n",
        "print(\"Accuracy =\",accuracy)\n"
      ],
      "execution_count": null,
      "outputs": [
        {
          "output_type": "stream",
          "text": [
            "Accuracy = 22.22222222222222\n"
          ],
          "name": "stdout"
        }
      ]
    },
    {
      "cell_type": "code",
      "metadata": {
        "id": "-L4tlW2t37iA",
        "colab_type": "code",
        "colab": {
          "base_uri": "https://localhost:8080/",
          "height": 135
        },
        "outputId": "67dbe23d-11f7-4588-9188-64e6d788440d"
      },
      "source": [
        "from collections import Counter\n",
        "import math\n",
        "import operator\n",
        "\n",
        "def euclidean_distance(point1, point2,sublength):\n",
        "    distance = 0\n",
        "    for i in range(len(point1)):\n",
        "        distance += math.pow(point1[i] - point2[i], 2)\n",
        "    return math.sqrt(distance)\n",
        "\n",
        "\n",
        "def knn(data, query, k, distances):\n",
        "  n_distances=[]\n",
        "  legth=len(test)-1\n",
        "  for x in range(len(train)):\n",
        "    dist=euclidean_distance(test[x], train[x],length)\n",
        "    n_distances.append((dist, index))\n",
        "    sorted_n_distances=sorted(n_distances)\n",
        "    nearest_pick=sorted_n_distances[:k]\n",
        "    \n",
        "    for i in n_distances:\n",
        "      true_sample=0\n",
        "      if nearest_pick[x] in test[x]\n",
        "         true_sample+=1\n",
        "        \n",
        "        def acuuracy(test,prediction)\n",
        "        right=0\n",
        "        for x in range(len(tset)):\n",
        "          if testx[-1] in predicttion[x]:\n",
        "            right+=1\n",
        "            return (right/float(len(test)))*100.0\n",
        "\n",
        "\n",
        "\n",
        "\n",
        "  "
      ],
      "execution_count": null,
      "outputs": [
        {
          "output_type": "error",
          "ename": "SyntaxError",
          "evalue": "ignored",
          "traceback": [
            "\u001b[0;36m  File \u001b[0;32m\"<ipython-input-31-19b899066683>\"\u001b[0;36m, line \u001b[0;32m23\u001b[0m\n\u001b[0;31m    if nearest_pick[x] in test[x]\u001b[0m\n\u001b[0m                                 ^\u001b[0m\n\u001b[0;31mSyntaxError\u001b[0m\u001b[0;31m:\u001b[0m invalid syntax\n"
          ]
        }
      ]
    },
    {
      "cell_type": "code",
      "metadata": {
        "id": "RePwEWZsLRCZ",
        "colab_type": "code",
        "colab": {
          "base_uri": "https://localhost:8080/",
          "height": 101
        },
        "outputId": "19254ccd-8ef0-453f-e290-961a5551b624"
      },
      "source": [
        "#sklearn\n",
        "\n",
        "from sklearn.datasets import load_iris\n",
        "dataset = load_iris()\n",
        "\n",
        "print(dataset.data[0:4])\n",
        "print(dataset.target[0:4])\n",
        "\n",
        "x= dataset.data\n",
        "y= dataset.target\n"
      ],
      "execution_count": null,
      "outputs": [
        {
          "output_type": "stream",
          "text": [
            "[[5.1 3.5 1.4 0.2]\n",
            " [4.9 3.  1.4 0.2]\n",
            " [4.7 3.2 1.3 0.2]\n",
            " [4.6 3.1 1.5 0.2]]\n",
            "[0 0 0 0]\n"
          ],
          "name": "stdout"
        }
      ]
    },
    {
      "cell_type": "code",
      "metadata": {
        "id": "UztJrGAgFSi4",
        "colab_type": "code",
        "colab": {
          "base_uri": "https://localhost:8080/",
          "height": 101
        },
        "outputId": "57ff3508-3b5f-4f94-adc7-81dbba75149b"
      },
      "source": [
        "\n",
        "print(y)"
      ],
      "execution_count": null,
      "outputs": [
        {
          "output_type": "stream",
          "text": [
            "[0 0 0 0 0 0 0 0 0 0 0 0 0 0 0 0 0 0 0 0 0 0 0 0 0 0 0 0 0 0 0 0 0 0 0 0 0\n",
            " 0 0 0 0 0 0 0 0 0 0 0 0 0 1 1 1 1 1 1 1 1 1 1 1 1 1 1 1 1 1 1 1 1 1 1 1 1\n",
            " 1 1 1 1 1 1 1 1 1 1 1 1 1 1 1 1 1 1 1 1 1 1 1 1 1 1 2 2 2 2 2 2 2 2 2 2 2\n",
            " 2 2 2 2 2 2 2 2 2 2 2 2 2 2 2 2 2 2 2 2 2 2 2 2 2 2 2 2 2 2 2 2 2 2 2 2 2\n",
            " 2 2]\n"
          ],
          "name": "stdout"
        }
      ]
    }
  ]
}